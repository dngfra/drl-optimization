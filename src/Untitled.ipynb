{
 "cells": [
  {
   "cell_type": "code",
   "execution_count": 34,
   "metadata": {},
   "outputs": [],
   "source": [
    "import numpy as np\n",
    "from sklearn.decomposition import PCA\n",
    "import plotly\n",
    "import plotly.plotly as py\n",
    "from plotly.graph_objs import Scatter3d, Data, Marker, Figure"
   ]
  },
  {
   "cell_type": "code",
   "execution_count": 26,
   "metadata": {},
   "outputs": [],
   "source": [
    "weights = np.load('/Users/fdangelo/Desktop/DeepLearning project/deep-learning/results/weights/CartPole-v1-20181230180350.npy')"
   ]
  },
  {
   "cell_type": "code",
   "execution_count": 27,
   "metadata": {},
   "outputs": [],
   "source": [
    "scores= np.load('/Users/fdangelo/Desktop/DeepLearning project/deep-learning/results/scores/CartPole-v1-20181230180350.npy')"
   ]
  },
  {
   "cell_type": "code",
   "execution_count": 35,
   "metadata": {},
   "outputs": [
    {
     "name": "stderr",
     "output_type": "stream",
     "text": [
      "/Users/fdangelo/anaconda3/lib/python3.6/site-packages/IPython/core/display.py:689: UserWarning:\n",
      "\n",
      "Consider using IPython.display.IFrame instead\n",
      "\n"
     ]
    },
    {
     "data": {
      "text/html": [
       "<iframe id=\"igraph\" scrolling=\"no\" style=\"border:none;\" seamless=\"seamless\" src=\"https://plot.ly/~fdfdangelo/27.embed\" height=\"525px\" width=\"100%\"></iframe>"
      ],
      "text/plain": [
       "<plotly.tools.PlotlyDisplay object>"
      ]
     },
     "execution_count": 35,
     "metadata": {},
     "output_type": "execute_result"
    }
   ],
   "source": [
    "plotly.tools.set_credentials_file(username='fdfdangelo', api_key='Vxga89BO64eKhvKzhkoR')\n",
    "n_generations, n_agents = weights.shape[0], weights.shape[1]\n",
    "w_re = weights.reshape(n_generations * n_agents, -1)\n",
    "w = np.empty([n_generations * n_agents, w_re[0,0].shape[1]*w_re[0,0].shape[0]+w_re[0,2].shape[0]*w_re[0,2].shape[1]])\n",
    "sc_re =  scores.reshape(n_generations * n_agents, -1)\n",
    "for i in range(n_generations * n_agents):\n",
    "    w[i, :] = np.concatenate((w_re[i, 0].flatten(), w_re[i, 2].flatten()))\n",
    "pca = PCA(n_components=2)\n",
    "weights_2d = pca.fit_transform(w)\n",
    "\n",
    "\n",
    "color = []\n",
    "color.extend([[x]*n_agents for x in range(n_generations)])\n",
    "# First three dimensions from reduced X VS the Y\n",
    "trace0 = Scatter3d(\n",
    "    x=weights_2d[:, 0],\n",
    "    y=weights_2d[:, 1],\n",
    "    z=sc_re,\n",
    "    marker=dict(\n",
    "        size=8,\n",
    "        cmax=49,\n",
    "        cmin=0,\n",
    "        color=color,\n",
    "        colorbar=dict(\n",
    "            title='Colorbar'\n",
    "        ),\n",
    "        colorscale='Viridis'\n",
    "    ),\n",
    "    mode='markers'\n",
    ")\n",
    "data = [trace0]\n",
    "\n",
    "fig = Figure(data = data)\n",
    "py.iplot(fig, filename='pca-cloud')\n",
    "#url = py.plot(data, filename = 'ciao', validate = False)"
   ]
  },
  {
   "cell_type": "code",
   "execution_count": 33,
   "metadata": {},
   "outputs": [
    {
     "ename": "SyntaxError",
     "evalue": "invalid syntax (<ipython-input-33-9d5296bf9422>, line 1)",
     "output_type": "error",
     "traceback": [
      "\u001b[0;36m  File \u001b[0;32m\"<ipython-input-33-9d5296bf9422>\"\u001b[0;36m, line \u001b[0;32m1\u001b[0m\n\u001b[0;31m    which python\u001b[0m\n\u001b[0m               ^\u001b[0m\n\u001b[0;31mSyntaxError\u001b[0m\u001b[0;31m:\u001b[0m invalid syntax\n"
     ]
    }
   ],
   "source": [
    "which python "
   ]
  },
  {
   "cell_type": "code",
   "execution_count": null,
   "metadata": {},
   "outputs": [],
   "source": []
  }
 ],
 "metadata": {
  "kernelspec": {
   "display_name": "Python 3",
   "language": "python",
   "name": "python3"
  },
  "language_info": {
   "codemirror_mode": {
    "name": "ipython",
    "version": 3
   },
   "file_extension": ".py",
   "mimetype": "text/x-python",
   "name": "python",
   "nbconvert_exporter": "python",
   "pygments_lexer": "ipython3",
   "version": "3.6.7"
  }
 },
 "nbformat": 4,
 "nbformat_minor": 2
}
